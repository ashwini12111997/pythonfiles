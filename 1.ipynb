{
 "cells": [
  {
   "cell_type": "code",
   "execution_count": 1,
   "metadata": {},
   "outputs": [
    {
     "name": "stdout",
     "output_type": "stream",
     "text": [
      "hello\n"
     ]
    }
   ],
   "source": [
    "print(\"hello\")"
   ]
  },
  {
   "cell_type": "code",
   "execution_count": 4,
   "metadata": {},
   "outputs": [
    {
     "name": "stdout",
     "output_type": "stream",
     "text": [
      "12 is greater than 11\n"
     ]
    }
   ],
   "source": [
    "Number1 = eval(input(\"Enter First Number:\"))\n",
    "Number2 = eval(input(\"Enter Second Number: \"))\n",
    "if Number1 > Number2:\n",
    "    print (Number1, \"is greater than\", Number2)\n",
    "else:\n",
    "    print (Number2,\"is greater than\", Number1)"
   ]
  },
  {
   "cell_type": "code",
   "execution_count": 8,
   "metadata": {},
   "outputs": [
    {
     "ename": "SyntaxError",
     "evalue": "invalid syntax (<string>, line 0)",
     "output_type": "error",
     "traceback": [
      "Traceback \u001b[1;36m(most recent call last)\u001b[0m:\n",
      "\u001b[0m  File \u001b[0;32m~\\AppData\\Roaming\\Python\\Python312\\site-packages\\IPython\\core\\interactiveshell.py:3577\u001b[0m in \u001b[0;35mrun_code\u001b[0m\n    exec(code_obj, self.user_global_ns, self.user_ns)\u001b[0m\n",
      "\u001b[1;36m  Cell \u001b[1;32mIn[8], line 3\u001b[1;36m\n\u001b[1;33m    number3=eval (input (\"Enter Third Number: \"))\u001b[1;36m\n",
      "\u001b[1;36m  File \u001b[1;32m<string>\u001b[1;36m\u001b[0m\n\u001b[1;33m    \u001b[0m\n\u001b[1;37m    ^\u001b[0m\n\u001b[1;31mSyntaxError\u001b[0m\u001b[1;31m:\u001b[0m invalid syntax\n"
     ]
    }
   ],
   "source": [
    "number1=eval (input (\"Enter First Number:\"))\n",
    "number2=eval (input (\"Enter Second Number: \"))\n",
    "number3=eval (input (\"Enter Third Number: \"))\n",
    "if number1>number2 and number1>number3:\n",
    " print (number1,\"is greater than \", number2,\"&\", number3)\n",
    "elif number2>number1 and number2>number3:\n",
    " print (number2,\"is greater than \", number1,\"&\", number3)\n",
    "else:\n",
    " print (number3,\"is greater than \", number1,\"&\", number2)"
   ]
  },
  {
   "cell_type": "code",
   "execution_count": 7,
   "metadata": {},
   "outputs": [
    {
     "name": "stdout",
     "output_type": "stream",
     "text": [
      "1 2 3 4 5 6 7 8 9 10 "
     ]
    }
   ],
   "source": [
    "print(\"The Numbers from 1 to 10 are as follows :\")\n",
    "for i in range (1, 100, 1):\n",
    " if (i==11):\n",
    "    break\n",
    " else:\n",
    "    print (i, end=\" \")"
   ]
  }
 ],
 "metadata": {
  "kernelspec": {
   "display_name": "Python 3",
   "language": "python",
   "name": "python3"
  },
  "language_info": {
   "codemirror_mode": {
    "name": "ipython",
    "version": 3
   },
   "file_extension": ".py",
   "mimetype": "text/x-python",
   "name": "python",
   "nbconvert_exporter": "python",
   "pygments_lexer": "ipython3",
   "version": "3.12.5"
  }
 },
 "nbformat": 4,
 "nbformat_minor": 2
}
