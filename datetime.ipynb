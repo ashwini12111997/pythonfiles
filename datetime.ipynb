{
 "cells": [
  {
   "cell_type": "code",
   "execution_count": 2,
   "metadata": {},
   "outputs": [
    {
     "name": "stdout",
     "output_type": "stream",
     "text": [
      "Today's date is 2024-09-11\n",
      "Date passed as argument is 1996-12-11\n"
     ]
    }
   ],
   "source": [
    "# import the date class\n",
    "from datetime import date\n",
    " \n",
    "my_date = date(1996, 12, 11)\n",
    "today = date.today()\n",
    " \n",
    "print(\"Today's date is\", today)\n",
    " \n",
    "print(\"Date passed as argument is\", my_date)"
   ]
  },
  {
   "cell_type": "code",
   "execution_count": 3,
   "metadata": {},
   "outputs": [
    {
     "name": "stdout",
     "output_type": "stream",
     "text": [
      "String Representation 2024-09-11\n",
      "<class 'str'>\n"
     ]
    }
   ],
   "source": [
    "from datetime import date\n",
    "   \n",
    "# calling the today\n",
    "# function of date class\n",
    "today = date.today()\n",
    "   \n",
    "# Converting the date to the string\n",
    "Str = date.isoformat(today)\n",
    "print(\"String Representation\", Str)\n",
    "print(type(Str))"
   ]
  },
  {
   "cell_type": "code",
   "execution_count": 5,
   "metadata": {},
   "outputs": [
    {
     "name": "stdout",
     "output_type": "stream",
     "text": [
      "String Representation 3\n",
      "today is  2\n"
     ]
    }
   ],
   "source": [
    "from datetime import date\n",
    "   \n",
    "# calling the today\n",
    "# function of date class\n",
    "today = date.today()\n",
    "   \n",
    "# Converting the date to the string\n",
    "Str = date.isoweekday(today)\n",
    "weekday = date.weekday(today)\n",
    "print(\"String Representation\", Str)\n",
    "print(\"today is \", weekday)"
   ]
  },
  {
   "cell_type": "code",
   "execution_count": 7,
   "metadata": {},
   "outputs": [
    {
     "name": "stdout",
     "output_type": "stream",
     "text": [
      "Entered time 13:24:56\n",
      "\n",
      "Time with one argument 00:12:00\n",
      "\n",
      "Time without argument 00:00:00\n"
     ]
    }
   ],
   "source": [
    "from datetime import time\n",
    " \n",
    "# calling the constructor\n",
    "my_time = time(13, 24, 56)\n",
    " \n",
    "print(\"Entered time\", my_time)\n",
    "\n",
    "# calling constructor with 1\n",
    "# argument\n",
    "my_time = time(minute=12)\n",
    "print(\"\\nTime with one argument\", my_time)\n",
    " \n",
    "# Calling constructor with\n",
    "# 0 argument\n",
    "my_time = time()\n",
    "print(\"\\nTime without argument\", my_time)"
   ]
  },
  {
   "cell_type": "code",
   "execution_count": 8,
   "metadata": {},
   "outputs": [
    {
     "name": "stdout",
     "output_type": "stream",
     "text": [
      "Current date and time is 2024-09-11 10:50:59.213787\n"
     ]
    }
   ],
   "source": [
    "from datetime import datetime\n",
    " \n",
    "# Calling now() function\n",
    "today = datetime.now()\n",
    " \n",
    "print(\"Current date and time is\", today)"
   ]
  }
 ],
 "metadata": {
  "kernelspec": {
   "display_name": "Python 3",
   "language": "python",
   "name": "python3"
  },
  "language_info": {
   "codemirror_mode": {
    "name": "ipython",
    "version": 3
   },
   "file_extension": ".py",
   "mimetype": "text/x-python",
   "name": "python",
   "nbconvert_exporter": "python",
   "pygments_lexer": "ipython3",
   "version": "3.12.5"
  }
 },
 "nbformat": 4,
 "nbformat_minor": 2
}
