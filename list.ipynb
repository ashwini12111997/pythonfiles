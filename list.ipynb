{
 "cells": [
  {
   "cell_type": "code",
   "execution_count": 2,
   "metadata": {},
   "outputs": [
    {
     "name": "stdout",
     "output_type": "stream",
     "text": [
      "[23, 26, 89]\n"
     ]
    }
   ],
   "source": [
    "list1= [ ]\n",
    "number_of_elements=int(input(\"enter number of elements in a list\"))\n",
    "for each_value in range(number_of_elements):\n",
    " elements=eval(input(\"Enter elements\"))\n",
    " list1.append(elements)\n",
    "print(list1)\n"
   ]
  },
  {
   "cell_type": "code",
   "execution_count": 3,
   "metadata": {},
   "outputs": [
    {
     "name": "stdout",
     "output_type": "stream",
     "text": [
      "[1, 2, 3, 4, 5, 20]\n"
     ]
    }
   ],
   "source": [
    "# append()\n",
    "\n",
    "list1=[1,2,3,4,5]\n",
    "list1.append(20)\n",
    "print(list1)"
   ]
  },
  {
   "cell_type": "code",
   "execution_count": 4,
   "metadata": {},
   "outputs": [
    {
     "name": "stdout",
     "output_type": "stream",
     "text": [
      "[10, 15, 20, 30, 40, 50]\n"
     ]
    }
   ],
   "source": [
    "#insert - an element at any given index\n",
    "\n",
    "list1=[10,20,30,40,50]\n",
    "list1.insert(1,15)\n",
    "print(list1)"
   ]
  },
  {
   "cell_type": "code",
   "execution_count": 5,
   "metadata": {},
   "outputs": [
    {
     "name": "stdout",
     "output_type": "stream",
     "text": [
      "[10, 15, 20, 30, 40, 50, 60, 70]\n"
     ]
    }
   ],
   "source": [
    "#extend() - all the elements in the second list at end of first list\n",
    "\n",
    "List1 = [10,20,30,40,50]\n",
    "List2 = [60,70]\n",
    "list1.extend(List2)\n",
    "print(list1)\n"
   ]
  },
  {
   "cell_type": "code",
   "execution_count": 6,
   "metadata": {},
   "outputs": [
    {
     "name": "stdout",
     "output_type": "stream",
     "text": [
      "2\n"
     ]
    }
   ],
   "source": [
    "#index - returns the index of an elements\n",
    "\n",
    "list1= [10,20,30,40,50]\n",
    "print(list1.index(30))"
   ]
  },
  {
   "cell_type": "code",
   "execution_count": 7,
   "metadata": {},
   "outputs": [
    {
     "name": "stdout",
     "output_type": "stream",
     "text": [
      "[10, 20, 30, 40]\n"
     ]
    }
   ],
   "source": [
    "# pop() - Remove the element from the end of the list\n",
    "\n",
    "list1= [10,20,30,40,50]\n",
    "list1.pop()\n",
    "print(list1)"
   ]
  },
  {
   "cell_type": "code",
   "execution_count": null,
   "metadata": {},
   "outputs": [],
   "source": [
    "# pop(index) - Remove the element at the given index\n",
    "\n",
    "list1= [10,20,30,40,50]\n",
    "list1.pop(2)\n",
    "print(list1)"
   ]
  },
  {
   "cell_type": "code",
   "execution_count": 8,
   "metadata": {},
   "outputs": [
    {
     "name": "stdout",
     "output_type": "stream",
     "text": [
      "[10, 20, 40, 50]\n"
     ]
    }
   ],
   "source": [
    "# remove() - Remove the element from the list\n",
    "\n",
    "list1= [10,20,30,40,50]\n",
    "list1.remove(30)\n",
    "print(list1)"
   ]
  },
  {
   "cell_type": "code",
   "execution_count": 9,
   "metadata": {},
   "outputs": [
    {
     "name": "stdout",
     "output_type": "stream",
     "text": [
      "[10, 20, 30, 50]\n"
     ]
    }
   ],
   "source": [
    "# del - Deletes a particular element in the list based on index values\n",
    "\n",
    "list1= [10,20,30,40,50]\n",
    "del list1[3]\n",
    "print(list1)\n"
   ]
  },
  {
   "cell_type": "code",
   "execution_count": null,
   "metadata": {},
   "outputs": [],
   "source": [
    "# count() - returns the number of times an element is present in the list\n",
    "List1 = [10,20,30,40,50,30]\n",
    "print(list1.count(30))"
   ]
  },
  {
   "cell_type": "code",
   "execution_count": null,
   "metadata": {},
   "outputs": [],
   "source": [
    "#reverse() - reverses the list\n",
    "\n",
    "list1= [10,20,30,40,50]\n",
    "list1.reverse()\n",
    "print(list1)"
   ]
  },
  {
   "cell_type": "code",
   "execution_count": null,
   "metadata": {},
   "outputs": [],
   "source": [
    "# sort() - sorts the list\n",
    "\n",
    "List1 = [10,30,20,50,40]\n",
    "list1.sort( )\n",
    "print(list1)"
   ]
  },
  {
   "cell_type": "code",
   "execution_count": null,
   "metadata": {},
   "outputs": [],
   "source": [
    "# len() - returns the length of the list\n",
    "\n",
    "list1= [10,20,30,40,50]\n",
    "print(len(list1))"
   ]
  },
  {
   "cell_type": "code",
   "execution_count": null,
   "metadata": {},
   "outputs": [],
   "source": [
    "#min() - returns the minimum element in the list\n",
    "\n",
    "list1= [10,20,30,40,50]\n",
    "print(min(list1))"
   ]
  },
  {
   "cell_type": "code",
   "execution_count": null,
   "metadata": {},
   "outputs": [],
   "source": [
    "# max() - returns the maximum element in the list\n",
    "\n",
    "list1= [10,20,30,40,50]\n",
    "print(max(list1))"
   ]
  },
  {
   "cell_type": "code",
   "execution_count": null,
   "metadata": {},
   "outputs": [],
   "source": [
    "# sum() - returns the sum of all the elements in the list\n",
    "\n",
    "list1= [10,20,30,40,50]\n",
    "print(sum(list1))"
   ]
  }
 ],
 "metadata": {
  "kernelspec": {
   "display_name": "Python 3",
   "language": "python",
   "name": "python3"
  },
  "language_info": {
   "codemirror_mode": {
    "name": "ipython",
    "version": 3
   },
   "file_extension": ".py",
   "mimetype": "text/x-python",
   "name": "python",
   "nbconvert_exporter": "python",
   "pygments_lexer": "ipython3",
   "version": "3.12.5"
  }
 },
 "nbformat": 4,
 "nbformat_minor": 2
}
