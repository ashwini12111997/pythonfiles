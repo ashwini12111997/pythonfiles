{
 "cells": [
  {
   "cell_type": "code",
   "execution_count": 2,
   "metadata": {},
   "outputs": [
    {
     "name": "stdout",
     "output_type": "stream",
     "text": [
      "iniwhsa\n"
     ]
    }
   ],
   "source": [
    "# Write a Python program to input a string and print it in reverse\n",
    "string = input(\"Enter a string: \")\n",
    "print(string[::-1])\n"
   ]
  },
  {
   "cell_type": "code",
   "execution_count": 7,
   "metadata": {},
   "outputs": [
    {
     "name": "stdout",
     "output_type": "stream",
     "text": [
      "19\n"
     ]
    }
   ],
   "source": [
    "# Write a Python program to count the number of vowels in a given string.\n",
    "string = \"Hello world\"\n",
    "vowels = \"aeiouAEIOU\"\n",
    "print(sum(string.count(vowels) for vowels in string))"
   ]
  },
  {
   "cell_type": "code",
   "execution_count": 1,
   "metadata": {},
   "outputs": [
    {
     "name": "stdout",
     "output_type": "stream",
     "text": [
      "ahii\n"
     ]
    }
   ],
   "source": [
    "# Write a Python program to input a string and print every second character.\n",
    "string = input(\"Enter a string: \")\n",
    "print(string[::2])\n"
   ]
  },
  {
   "cell_type": "code",
   "execution_count": 2,
   "metadata": {},
   "outputs": [
    {
     "name": "stdout",
     "output_type": "stream",
     "text": [
      "ash\n",
      "wini\n"
     ]
    }
   ],
   "source": [
    "# Write a Python program to input a string and print the first half and the second half of the string.\n",
    "string = input(\"Enter a string: \")\n",
    "print(string[:len(string)//2])\n",
    "print(string[len(string)//2:])\n"
   ]
  },
  {
   "cell_type": "code",
   "execution_count": 4,
   "metadata": {},
   "outputs": [
    {
     "name": "stdout",
     "output_type": "stream",
     "text": [
      "awi\n"
     ]
    }
   ],
   "source": [
    "# Write a Python program to input a string and print every third character\n",
    "string = input(\"Enter a string: \")\n",
    "print(string[::3])"
   ]
  },
  {
   "cell_type": "code",
   "execution_count": 5,
   "metadata": {},
   "outputs": [
    {
     "name": "stdout",
     "output_type": "stream",
     "text": [
      "my name is ashwini and my age is 26\n"
     ]
    }
   ],
   "source": [
    "name = \"ashwini\"\n",
    "age = 26\n",
    "print(\"my name is {} and my age is {}\".format(name, age))"
   ]
  },
  {
   "cell_type": "code",
   "execution_count": 6,
   "metadata": {},
   "outputs": [
    {
     "name": "stdout",
     "output_type": "stream",
     "text": [
      "my name is ashwini and my age is 26\n"
     ]
    }
   ],
   "source": [
    "name = \"ashwini\"\n",
    "age = 26\n",
    "print(\"my name is {1} and my age is {0}\".format(age,name))"
   ]
  },
  {
   "cell_type": "code",
   "execution_count": 7,
   "metadata": {},
   "outputs": [
    {
     "name": "stdout",
     "output_type": "stream",
     "text": [
      "my number is 1,223,333,367,788\n"
     ]
    }
   ],
   "source": [
    "number = 1223333367788\n",
    "print(\"my number is {0:,}\".format(number))"
   ]
  },
  {
   "cell_type": "code",
   "execution_count": 11,
   "metadata": {},
   "outputs": [
    {
     "name": "stdout",
     "output_type": "stream",
     "text": [
      "hello     \n",
      "     hello\n",
      "  hello   \n",
      "hello*****\n",
      "**hello***\n"
     ]
    }
   ],
   "source": [
    "print(\"{:<10}\".format(\"hello\"))\n",
    "print(\"{:>10}\".format(\"hello\"))\n",
    "print(\"{:^10}\".format(\"hello\"))\n",
    "print(\"{:*<10}\".format(\"hello\"))\n",
    "print(\"{:*^10}\".format(\"hello\"))"
   ]
  },
  {
   "cell_type": "code",
   "execution_count": 12,
   "metadata": {},
   "outputs": [
    {
     "name": "stdout",
     "output_type": "stream",
     "text": [
      "The sum of 10 and 5 is 15.\n"
     ]
    }
   ],
   "source": [
    "#To create an f-string, prefix your string with an f or F and place expressions inside curly braces {}\n",
    "x = 10\n",
    "y = 5\n",
    "result = f\"The sum of {x} and {y} is {x + y}.\"\n",
    "print(result)"
   ]
  },
  {
   "cell_type": "code",
   "execution_count": null,
   "metadata": {},
   "outputs": [],
   "source": []
  }
 ],
 "metadata": {
  "kernelspec": {
   "display_name": "Python 3",
   "language": "python",
   "name": "python3"
  },
  "language_info": {
   "codemirror_mode": {
    "name": "ipython",
    "version": 3
   },
   "file_extension": ".py",
   "mimetype": "text/x-python",
   "name": "python",
   "nbconvert_exporter": "python",
   "pygments_lexer": "ipython3",
   "version": "3.12.5"
  }
 },
 "nbformat": 4,
 "nbformat_minor": 2
}
