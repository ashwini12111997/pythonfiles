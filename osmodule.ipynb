{
 "cells": [
  {
   "cell_type": "code",
   "execution_count": 1,
   "metadata": {},
   "outputs": [
    {
     "name": "stdout",
     "output_type": "stream",
     "text": [
      "Note: you may need to restart the kernel to use updated packages.\n"
     ]
    },
    {
     "name": "stderr",
     "output_type": "stream",
     "text": [
      "ERROR: Could not find a version that satisfies the requirement os (from versions: none)\n",
      "ERROR: No matching distribution found for os\n"
     ]
    }
   ],
   "source": [
    "pip install os"
   ]
  },
  {
   "cell_type": "code",
   "execution_count": 2,
   "metadata": {},
   "outputs": [
    {
     "name": "stdout",
     "output_type": "stream",
     "text": [
      "Current working directory: d:\\python\n"
     ]
    }
   ],
   "source": [
    "#retrieves the CWD using the ‘os.getcwd()'\n",
    "import os \n",
    "cwd = os.getcwd() \n",
    "print(\"Current working directory:\", cwd)"
   ]
  },
  {
   "cell_type": "code",
   "execution_count": 3,
   "metadata": {},
   "outputs": [
    {
     "name": "stdout",
     "output_type": "stream",
     "text": [
      "Current working directory before\n",
      "d:\\python\n",
      "\n",
      "Current working directory before\n",
      "d:\\\n",
      "\n"
     ]
    }
   ],
   "source": [
    "#changes the CWD to a specified path\n",
    "import os \n",
    "def current_path(): \n",
    "    print(\"Current working directory before\") \n",
    "    print(os.getcwd()) \n",
    "    print() \n",
    "current_path() \n",
    "os.chdir('../') \n",
    "current_path() "
   ]
  },
  {
   "cell_type": "code",
   "execution_count": 13,
   "metadata": {},
   "outputs": [
    {
     "name": "stdout",
     "output_type": "stream",
     "text": [
      "Directory 'Geeks' created\n"
     ]
    }
   ],
   "source": [
    "#create a directory named path\n",
    "import os \n",
    "directory = \"Geeks\"\n",
    "dire = 'D:\\\\python\\\\test'\n",
    "path = os.path.join(dire, directory)\n",
    "\n",
    "os.mkdir(path)\n",
    "print(\"Directory '% s' created\" % directory)\n"
   ]
  },
  {
   "cell_type": "code",
   "execution_count": 15,
   "metadata": {},
   "outputs": [],
   "source": [
    "import os \n",
    "directory = \"Geeks\"\n",
    "dire = 'D:\\\\python\\\\test'\n",
    "path = os.path.join(dire, directory)\n",
    "\n",
    "os.rmdir(path)"
   ]
  }
 ],
 "metadata": {
  "kernelspec": {
   "display_name": "Python 3",
   "language": "python",
   "name": "python3"
  },
  "language_info": {
   "codemirror_mode": {
    "name": "ipython",
    "version": 3
   },
   "file_extension": ".py",
   "mimetype": "text/x-python",
   "name": "python",
   "nbconvert_exporter": "python",
   "pygments_lexer": "ipython3",
   "version": "3.12.5"
  }
 },
 "nbformat": 4,
 "nbformat_minor": 2
}
