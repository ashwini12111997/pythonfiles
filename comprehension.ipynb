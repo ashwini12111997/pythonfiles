{
 "cells": [
  {
   "cell_type": "code",
   "execution_count": 1,
   "metadata": {},
   "outputs": [
    {
     "name": "stdout",
     "output_type": "stream",
     "text": [
      "Output List using list comprehensions: [2, 4, 4, 6]\n"
     ]
    }
   ],
   "source": [
    "#Comprehensions in Python provide us with a short and concise way to construct new sequences \n",
    "# (such as lists, sets, dictionaries, etc.) using previously defined sequences.\n",
    "input_list = [1, 2, 3, 4, 4, 5, 6, 7, 7]\n",
    "   \n",
    "list_using_comp = [var for var in input_list if var % 2 == 0]\n",
    "   \n",
    "print(\"Output List using list comprehensions:\",\n",
    "                               list_using_comp)"
   ]
  },
  {
   "cell_type": "code",
   "execution_count": 2,
   "metadata": {},
   "outputs": [
    {
     "name": "stdout",
     "output_type": "stream",
     "text": [
      "Output List using for loop: [1, 4, 9, 16, 25, 36, 49, 64, 81]\n"
     ]
    }
   ],
   "source": [
    "output_list = []\n",
    "for var in range(1, 10):\n",
    "    output_list.append(var ** 2)\n",
    "       \n",
    "print(\"Output List using for loop:\", output_list)"
   ]
  }
 ],
 "metadata": {
  "kernelspec": {
   "display_name": "Python 3",
   "language": "python",
   "name": "python3"
  },
  "language_info": {
   "codemirror_mode": {
    "name": "ipython",
    "version": 3
   },
   "file_extension": ".py",
   "mimetype": "text/x-python",
   "name": "python",
   "nbconvert_exporter": "python",
   "pygments_lexer": "ipython3",
   "version": "3.12.5"
  }
 },
 "nbformat": 4,
 "nbformat_minor": 2
}
